{
 "cells": [
  {
   "cell_type": "code",
   "execution_count": 1,
   "metadata": {},
   "outputs": [],
   "source": [
    "import cv2 as cv\n",
    "import pandas as pd\n",
    "import numpy as np\n",
    "import matplotlib.pyplot as plt\n",
    "from images import Images, now, save, load # majority done in images.py"
   ]
  },
  {
   "cell_type": "code",
   "execution_count": 2,
   "metadata": {},
   "outputs": [],
   "source": [
    "SAMPLE_NAME = \"24k_sample_train_and_test\""
   ]
  },
  {
   "cell_type": "code",
   "execution_count": 3,
   "metadata": {},
   "outputs": [],
   "source": [
    "sample = pd.read_csv(f\"utils/{SAMPLE_NAME}.csv\")"
   ]
  },
  {
   "cell_type": "markdown",
   "metadata": {},
   "source": [
    "<h2> Reading Images </h2>\n",
    "\n",
    "* Reads a dataframe containing the raw filepaths\n",
    "* OpenCV reads these and transforms them of dimension (Y, X, Z)\n",
    "\n",
    "    * where Y = the height\n",
    "    * where X = the length\n",
    "    * Z the R, G, B values"
   ]
  },
  {
   "cell_type": "code",
   "execution_count": 4,
   "metadata": {},
   "outputs": [
    {
     "data": {
      "text/html": [
       "<div>\n",
       "<style scoped>\n",
       "    .dataframe tbody tr th:only-of-type {\n",
       "        vertical-align: middle;\n",
       "    }\n",
       "\n",
       "    .dataframe tbody tr th {\n",
       "        vertical-align: top;\n",
       "    }\n",
       "\n",
       "    .dataframe thead th {\n",
       "        text-align: right;\n",
       "    }\n",
       "</style>\n",
       "<table border=\"1\" class=\"dataframe\">\n",
       "  <thead>\n",
       "    <tr style=\"text-align: right;\">\n",
       "      <th></th>\n",
       "      <th>Unnamed: 0</th>\n",
       "      <th>artist</th>\n",
       "      <th>date</th>\n",
       "      <th>style</th>\n",
       "      <th>genre</th>\n",
       "      <th>title</th>\n",
       "      <th>new_filename</th>\n",
       "      <th>artist_group</th>\n",
       "      <th>group</th>\n",
       "      <th>file_location</th>\n",
       "    </tr>\n",
       "  </thead>\n",
       "  <tbody>\n",
       "    <tr>\n",
       "      <th>0</th>\n",
       "      <td>402</td>\n",
       "      <td>Paul Signac</td>\n",
       "      <td>1922</td>\n",
       "      <td>Impressionism</td>\n",
       "      <td>cityscape</td>\n",
       "      <td>Le Havre with rain clouds</td>\n",
       "      <td>8250.jpg</td>\n",
       "      <td>train_and_test</td>\n",
       "      <td>train</td>\n",
       "      <td>/Users/juliecorfman/ArtClassifier/train/8250.jpg</td>\n",
       "    </tr>\n",
       "    <tr>\n",
       "      <th>1</th>\n",
       "      <td>504</td>\n",
       "      <td>Paul Signac</td>\n",
       "      <td>c.1921</td>\n",
       "      <td>Impressionism</td>\n",
       "      <td>landscape</td>\n",
       "      <td>Saint Paul de Vence</td>\n",
       "      <td>95477.jpg</td>\n",
       "      <td>train_and_test</td>\n",
       "      <td>train</td>\n",
       "      <td>/Users/juliecorfman/ArtClassifier/train/95477.jpg</td>\n",
       "    </tr>\n",
       "    <tr>\n",
       "      <th>2</th>\n",
       "      <td>1083</td>\n",
       "      <td>Alfred Sisley</td>\n",
       "      <td>1871</td>\n",
       "      <td>Impressionism</td>\n",
       "      <td>landscape</td>\n",
       "      <td>River steamboat and bridge</td>\n",
       "      <td>34200.jpg</td>\n",
       "      <td>train_and_test</td>\n",
       "      <td>train</td>\n",
       "      <td>/Users/juliecorfman/ArtClassifier/test/34200.jpg</td>\n",
       "    </tr>\n",
       "    <tr>\n",
       "      <th>3</th>\n",
       "      <td>1087</td>\n",
       "      <td>Claude Monet</td>\n",
       "      <td>1886</td>\n",
       "      <td>Impressionism</td>\n",
       "      <td>landscape</td>\n",
       "      <td>Haystack at Giverny</td>\n",
       "      <td>52023.jpg</td>\n",
       "      <td>train_and_test</td>\n",
       "      <td>train</td>\n",
       "      <td>/Users/juliecorfman/ArtClassifier/train/52023.jpg</td>\n",
       "    </tr>\n",
       "    <tr>\n",
       "      <th>4</th>\n",
       "      <td>1336</td>\n",
       "      <td>Anders Zorn</td>\n",
       "      <td>1893</td>\n",
       "      <td>Impressionism</td>\n",
       "      <td>genre painting</td>\n",
       "      <td>Omnibus</td>\n",
       "      <td>100236.jpg</td>\n",
       "      <td>train_and_test</td>\n",
       "      <td>train</td>\n",
       "      <td>/Users/juliecorfman/ArtClassifier/train/100236...</td>\n",
       "    </tr>\n",
       "    <tr>\n",
       "      <th>...</th>\n",
       "      <td>...</td>\n",
       "      <td>...</td>\n",
       "      <td>...</td>\n",
       "      <td>...</td>\n",
       "      <td>...</td>\n",
       "      <td>...</td>\n",
       "      <td>...</td>\n",
       "      <td>...</td>\n",
       "      <td>...</td>\n",
       "      <td>...</td>\n",
       "    </tr>\n",
       "    <tr>\n",
       "      <th>23995</th>\n",
       "      <td>102198</td>\n",
       "      <td>Juan Gris</td>\n",
       "      <td>1920</td>\n",
       "      <td>Cubism</td>\n",
       "      <td>sketch and study</td>\n",
       "      <td>Harlequin</td>\n",
       "      <td>87717.jpg</td>\n",
       "      <td>train_and_test</td>\n",
       "      <td>test</td>\n",
       "      <td>/Users/juliecorfman/ArtClassifier/train/87717.jpg</td>\n",
       "    </tr>\n",
       "    <tr>\n",
       "      <th>23996</th>\n",
       "      <td>102240</td>\n",
       "      <td>Willi Baumeister</td>\n",
       "      <td>1930.0</td>\n",
       "      <td>Cubism</td>\n",
       "      <td>abstract</td>\n",
       "      <td>Machine Man with Spiral Turn</td>\n",
       "      <td>40473.jpg</td>\n",
       "      <td>train_and_test</td>\n",
       "      <td>test</td>\n",
       "      <td>/Users/juliecorfman/ArtClassifier/test/40473.jpg</td>\n",
       "    </tr>\n",
       "    <tr>\n",
       "      <th>23997</th>\n",
       "      <td>102346</td>\n",
       "      <td>Henri Laurens</td>\n",
       "      <td>1915.0</td>\n",
       "      <td>Cubism</td>\n",
       "      <td>portrait</td>\n",
       "      <td>Head of a Woman</td>\n",
       "      <td>32438.jpg</td>\n",
       "      <td>train_only</td>\n",
       "      <td>test</td>\n",
       "      <td>/Users/juliecorfman/ArtClassifier/train/32438.jpg</td>\n",
       "    </tr>\n",
       "    <tr>\n",
       "      <th>23998</th>\n",
       "      <td>102890</td>\n",
       "      <td>Roy Lichtenstein</td>\n",
       "      <td>1980.0</td>\n",
       "      <td>Cubism</td>\n",
       "      <td>landscape</td>\n",
       "      <td>Landscape with figures and rainbow</td>\n",
       "      <td>2862.jpg</td>\n",
       "      <td>train_only</td>\n",
       "      <td>test</td>\n",
       "      <td>/Users/juliecorfman/ArtClassifier/train/2862.jpg</td>\n",
       "    </tr>\n",
       "    <tr>\n",
       "      <th>23999</th>\n",
       "      <td>103128</td>\n",
       "      <td>Marevna (Marie Vorobieff)</td>\n",
       "      <td>NaN</td>\n",
       "      <td>Cubism</td>\n",
       "      <td>still life</td>\n",
       "      <td>Cubist Sunflowers</td>\n",
       "      <td>95093.jpg</td>\n",
       "      <td>train_only</td>\n",
       "      <td>test</td>\n",
       "      <td>/Users/juliecorfman/ArtClassifier/train/95093.jpg</td>\n",
       "    </tr>\n",
       "  </tbody>\n",
       "</table>\n",
       "<p>24000 rows × 10 columns</p>\n",
       "</div>"
      ],
      "text/plain": [
       "       Unnamed: 0                     artist    date          style  \\\n",
       "0             402                Paul Signac    1922  Impressionism   \n",
       "1             504                Paul Signac  c.1921  Impressionism   \n",
       "2            1083              Alfred Sisley    1871  Impressionism   \n",
       "3            1087               Claude Monet    1886  Impressionism   \n",
       "4            1336                Anders Zorn    1893  Impressionism   \n",
       "...           ...                        ...     ...            ...   \n",
       "23995      102198                  Juan Gris    1920         Cubism   \n",
       "23996      102240           Willi Baumeister  1930.0         Cubism   \n",
       "23997      102346              Henri Laurens  1915.0         Cubism   \n",
       "23998      102890           Roy Lichtenstein  1980.0         Cubism   \n",
       "23999      103128  Marevna (Marie Vorobieff)     NaN         Cubism   \n",
       "\n",
       "                  genre                               title new_filename  \\\n",
       "0             cityscape           Le Havre with rain clouds     8250.jpg   \n",
       "1             landscape                 Saint Paul de Vence    95477.jpg   \n",
       "2             landscape          River steamboat and bridge    34200.jpg   \n",
       "3             landscape                 Haystack at Giverny    52023.jpg   \n",
       "4        genre painting                             Omnibus   100236.jpg   \n",
       "...                 ...                                 ...          ...   \n",
       "23995  sketch and study                           Harlequin    87717.jpg   \n",
       "23996          abstract        Machine Man with Spiral Turn    40473.jpg   \n",
       "23997          portrait                    Head of a Woman     32438.jpg   \n",
       "23998         landscape  Landscape with figures and rainbow     2862.jpg   \n",
       "23999        still life                   Cubist Sunflowers    95093.jpg   \n",
       "\n",
       "         artist_group  group  \\\n",
       "0      train_and_test  train   \n",
       "1      train_and_test  train   \n",
       "2      train_and_test  train   \n",
       "3      train_and_test  train   \n",
       "4      train_and_test  train   \n",
       "...               ...    ...   \n",
       "23995  train_and_test   test   \n",
       "23996  train_and_test   test   \n",
       "23997      train_only   test   \n",
       "23998      train_only   test   \n",
       "23999      train_only   test   \n",
       "\n",
       "                                           file_location  \n",
       "0       /Users/juliecorfman/ArtClassifier/train/8250.jpg  \n",
       "1      /Users/juliecorfman/ArtClassifier/train/95477.jpg  \n",
       "2       /Users/juliecorfman/ArtClassifier/test/34200.jpg  \n",
       "3      /Users/juliecorfman/ArtClassifier/train/52023.jpg  \n",
       "4      /Users/juliecorfman/ArtClassifier/train/100236...  \n",
       "...                                                  ...  \n",
       "23995  /Users/juliecorfman/ArtClassifier/train/87717.jpg  \n",
       "23996   /Users/juliecorfman/ArtClassifier/test/40473.jpg  \n",
       "23997  /Users/juliecorfman/ArtClassifier/train/32438.jpg  \n",
       "23998   /Users/juliecorfman/ArtClassifier/train/2862.jpg  \n",
       "23999  /Users/juliecorfman/ArtClassifier/train/95093.jpg  \n",
       "\n",
       "[24000 rows x 10 columns]"
      ]
     },
     "metadata": {},
     "output_type": "display_data"
    }
   ],
   "source": [
    "images = Images(sample)\n",
    "display(images.df)\n",
    "#images2 = Images(sample)"
   ]
  },
  {
   "cell_type": "code",
   "execution_count": 5,
   "metadata": {},
   "outputs": [],
   "source": [
    "# [15:58:58]: Start\n",
    "# [15:58:58]: Started reading images\n",
    "# [16:07:32]: Successfully read 450 test objects\n",
    "# [16:29:35]: Successfully read 1050 train objects\n",
    "# [16:29:35]: End\n",
    "\n",
    "# [17:36:42]: Start\n",
    "# [17:36:42]: Started reading images\n",
    "# [18:31:57]: Successfully read 7200 test objects\n",
    "# [20:28:33]: Successfully read 16800 train objects\n",
    "# [20:28:33]: End"
   ]
  },
  {
   "cell_type": "code",
   "execution_count": 6,
   "metadata": {},
   "outputs": [
    {
     "name": "stdout",
     "output_type": "stream",
     "text": [
      "[17:36:42]: Start\n",
      "[17:36:42]: Started reading images\n",
      "[18:31:57]: Successfully read 7200 test objects\n",
      "[20:28:33]: Successfully read 16800 train objects\n",
      "[20:28:33]: End\n"
     ]
    }
   ],
   "source": [
    "# Inputs: img_type=cv.IMREAD_COLOR\n",
    "#         resized=False\n",
    "\n",
    "print(now() + \": Start\")\n",
    "images.read_images() ## img_type=cv.IMREAD_GRAYSCALE \n",
    "print(now() + \": End\")"
   ]
  },
  {
   "cell_type": "code",
   "execution_count": null,
   "metadata": {},
   "outputs": [],
   "source": [
    "def convert_color(img): # to BGR --> RGB\n",
    "    return cv.cvtColor(img, cv.COLOR_BGR2RGB)"
   ]
  },
  {
   "cell_type": "markdown",
   "metadata": {},
   "source": [
    "<h2> TRANSFORMING IMAGES, ETC </h2>\n",
    "    * RGB\n",
    "    * Grayscale\n",
    "    * Luminance"
   ]
  },
  {
   "cell_type": "markdown",
   "metadata": {},
   "source": [
    "<h2> Saving Image Object </h2>"
   ]
  },
  {
   "cell_type": "code",
   "execution_count": 7,
   "metadata": {},
   "outputs": [
    {
     "name": "stdout",
     "output_type": "stream",
     "text": [
      "[20:28:33]: Start\n",
      "Saved Image Object to /Volumes/STORAGE FD/Machine Learning Project/objects/24k_sample_train_and_test_features_.pickle!\n",
      "[20:28:39]: End\n"
     ]
    },
    {
     "data": {
      "text/plain": [
       "''"
      ]
     },
     "execution_count": 7,
     "metadata": {},
     "output_type": "execute_result"
    }
   ],
   "source": [
    "# filename = str(f\"utils/objects/{SAMPLE_NAME}_grayscale.pickle\")\n",
    "filename = str(f\"/Volumes/STORAGE FD/Machine Learning Project/objects/{SAMPLE_NAME}_features_.pickle\")\n",
    "save(filename, images)"
   ]
  },
  {
   "cell_type": "code",
   "execution_count": null,
   "metadata": {},
   "outputs": [],
   "source": [
    "# six minutes for 2.5gb / 24k images gray scale\n",
    "# 20 minutes for 6gb\n",
    "\n",
    "# 20 minures for 1k images"
   ]
  },
  {
   "cell_type": "code",
   "execution_count": null,
   "metadata": {},
   "outputs": [],
   "source": [
    "locs = np.array(images.df['file_location'][:5])"
   ]
  },
  {
   "cell_type": "code",
   "execution_count": null,
   "metadata": {},
   "outputs": [],
   "source": [
    "%%timeit\n",
    "x = [image_info(cv.imread(fp, cv.IMREAD_COLOR)) for fp in images.df['file_location'][:5].copy()]"
   ]
  },
  {
   "cell_type": "code",
   "execution_count": null,
   "metadata": {},
   "outputs": [],
   "source": []
  }
 ],
 "metadata": {
  "kernelspec": {
   "display_name": "Python 3",
   "language": "python",
   "name": "python3"
  },
  "language_info": {
   "codemirror_mode": {
    "name": "ipython",
    "version": 3
   },
   "file_extension": ".py",
   "mimetype": "text/x-python",
   "name": "python",
   "nbconvert_exporter": "python",
   "pygments_lexer": "ipython3",
   "version": "3.7.6"
  }
 },
 "nbformat": 4,
 "nbformat_minor": 4
}
